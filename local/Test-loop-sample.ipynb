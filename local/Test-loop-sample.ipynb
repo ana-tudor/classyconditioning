{
 "cells": [
  {
   "cell_type": "code",
   "execution_count": 1,
   "metadata": {},
   "outputs": [
    {
     "name": "stdout",
     "output_type": "stream",
     "text": [
      "WARNING:tensorflow:From /home/williamwu/ml/anaconda3/envs/proj-182/lib/python3.7/site-packages/tensorflow/python/compat/v2_compat.py:96: disable_resource_variables (from tensorflow.python.ops.variable_scope) is deprecated and will be removed in a future version.\n",
      "Instructions for updating:\n",
      "non-resource variables are not supported in the long term\n"
     ]
    }
   ],
   "source": [
    "import gym\n",
    "import procgen\n",
    "import time\n",
    "import numpy as np\n",
    "\n",
    "from abc import ABC, abstractmethod\n",
    "\n",
    "import tensorflow.compat.v1 as tf\n",
    "tf.disable_v2_behavior()\n",
    "from mpi4py import MPI\n",
    "from baselines.ppo2 import ppo2\n",
    "from baselines.common.models import build_impala_cnn\n",
    "from baselines.common.mpi_util import setup_mpi_gpus\n",
    "from procgen import ProcgenEnv\n",
    "from baselines.common.vec_env import (\n",
    "    VecExtractDictObs,\n",
    "    VecMonitor,\n",
    "    VecFrameStack,\n",
    "    VecNormalize\n",
    ")\n",
    "from baselines import logger\n",
    "from mpi4py import MPI\n",
    "import argparse\n",
    "\n",
    "from collections import deque\n",
    "from baselines.common import explained_variance, set_global_seeds\n",
    "from baselines.common.policies import build_policy\n",
    "try:\n",
    "    from mpi4py import MPI\n",
    "except ImportError:\n",
    "    MPI = None\n",
    "from baselines.ppo2.runner import Runner"
   ]
  },
  {
   "cell_type": "code",
   "execution_count": 2,
   "metadata": {},
   "outputs": [
    {
     "data": {
      "text/plain": [
       "<tensorflow.python.client.session.Session at 0x7f3010142828>"
      ]
     },
     "execution_count": 2,
     "metadata": {},
     "output_type": "execute_result"
    }
   ],
   "source": [
    "setup_mpi_gpus()\n",
    "config = tf.ConfigProto()\n",
    "config.gpu_options.allow_growth = True #pylint: disable=E1101\n",
    "sess = tf.Session(config=config)\n",
    "sess.__enter__()\n",
    "    "
   ]
  },
  {
   "cell_type": "code",
   "execution_count": 3,
   "metadata": {},
   "outputs": [],
   "source": [
    "num_envs = 64\n",
    "learning_rate = 5e-4\n",
    "ent_coef = .01\n",
    "gamma = .999\n",
    "lam = .95\n",
    "nsteps = 256\n",
    "nminibatches = 8\n",
    "ppo_epochs = 3\n",
    "clip_range = .2\n",
    "use_vf_clipping = True\n",
    "update_fn=None,\n",
    "init_fn=None,\n",
    "vf_coef=0.5,\n",
    "max_grad_norm=0.5\n",
    "comm = None"
   ]
  },
  {
   "cell_type": "code",
   "execution_count": 4,
   "metadata": {},
   "outputs": [],
   "source": [
    "num_levels = 50\n",
    "num_envs = 64\n",
    "start_level = 0\n",
    "\n",
    "# FILL IN: HOW MANY PARALLEL ENVIRONMENTS FOR TESTING\n",
    "test_envs = 4\n",
    "\n",
    "venv = ProcgenEnv(num_envs=test_envs, env_name=\"fruitbot\", \n",
    "                  num_levels=num_levels, start_level=start_level, distribution_mode='easy')\n",
    "venv = VecExtractDictObs(venv, \"rgb\")\n",
    "\n",
    "venv = VecMonitor(\n",
    "        venv=venv, filename=None, keep_buf=100,\n",
    "    )\n",
    "\n",
    "venv = VecNormalize(venv=venv, ob=False)\n"
   ]
  },
  {
   "cell_type": "code",
   "execution_count": 5,
   "metadata": {},
   "outputs": [],
   "source": [
    "conv_fn = lambda x: build_impala_cnn(x, depths=[16,32,32], emb_size=256)\n",
    "total_timesteps = 20000"
   ]
  },
  {
   "cell_type": "code",
   "execution_count": 6,
   "metadata": {},
   "outputs": [],
   "source": [
    "load_path = None\n",
    "load_path = '../train_procgen/models/sample-gpu/checkpoints/03051'\n"
   ]
  },
  {
   "cell_type": "code",
   "execution_count": 7,
   "metadata": {},
   "outputs": [
    {
     "name": "stdout",
     "output_type": "stream",
     "text": [
      "WARNING:tensorflow:From /home/williamwu/ml/anaconda3/envs/proj-182/lib/python3.7/site-packages/baselines-0.1.6-py3.7.egg/baselines/common/input.py:58: to_float (from tensorflow.python.ops.math_ops) is deprecated and will be removed in a future version.\n",
      "Instructions for updating:\n",
      "Use `tf.cast` instead.\n",
      "WARNING:tensorflow:From /home/williamwu/ml/anaconda3/envs/proj-182/lib/python3.7/site-packages/baselines-0.1.6-py3.7.egg/baselines/common/models.py:44: conv2d (from tensorflow.python.layers.convolutional) is deprecated and will be removed in a future version.\n",
      "Instructions for updating:\n",
      "Use `tf.keras.layers.Conv2D` instead.\n",
      "WARNING:tensorflow:From /home/williamwu/ml/anaconda3/envs/proj-182/lib/python3.7/site-packages/tensorflow/python/layers/convolutional.py:424: Layer.apply (from tensorflow.python.keras.engine.base_layer_v1) is deprecated and will be removed in a future version.\n",
      "Instructions for updating:\n",
      "Please use `layer.__call__` method instead.\n",
      "WARNING:tensorflow:From /home/williamwu/ml/anaconda3/envs/proj-182/lib/python3.7/site-packages/baselines-0.1.6-py3.7.egg/baselines/common/models.py:58: max_pooling2d (from tensorflow.python.layers.pooling) is deprecated and will be removed in a future version.\n",
      "Instructions for updating:\n",
      "Use keras.layers.MaxPooling2D instead.\n",
      "WARNING:tensorflow:From /home/williamwu/ml/anaconda3/envs/proj-182/lib/python3.7/site-packages/baselines-0.1.6-py3.7.egg/baselines/common/models.py:68: flatten (from tensorflow.python.layers.core) is deprecated and will be removed in a future version.\n",
      "Instructions for updating:\n",
      "Use keras.layers.Flatten instead.\n",
      "WARNING:tensorflow:From /home/williamwu/ml/anaconda3/envs/proj-182/lib/python3.7/site-packages/baselines-0.1.6-py3.7.egg/baselines/common/models.py:70: dense (from tensorflow.python.layers.core) is deprecated and will be removed in a future version.\n",
      "Instructions for updating:\n",
      "Use keras.layers.Dense instead.\n"
     ]
    }
   ],
   "source": [
    "total_timesteps = int(total_timesteps)\n",
    "\n",
    "policy = build_policy(venv, conv_fn)\n",
    "\n",
    "# Get the nb of env\n",
    "nenvs = venv.num_envs\n",
    "\n",
    "# Get state_space and action_space\n",
    "ob_space = venv.observation_space\n",
    "ac_space = venv.action_space\n",
    "\n",
    "# Calculate the batch_size\n",
    "nbatch = nenvs * nsteps\n",
    "nbatch_train = nbatch // nminibatches\n",
    "\n",
    "\n",
    "# Instantiate the model object (that creates act_model and train_model)\n",
    "from baselines.ppo2.model import Model\n",
    "model_fn = Model\n",
    "\n",
    "model = model_fn(policy=policy, ob_space=ob_space, ac_space=ac_space, nbatch_act=nenvs, nbatch_train=nbatch_train,\n",
    "                    nsteps=nsteps, ent_coef=ent_coef, vf_coef=vf_coef,\n",
    "                    max_grad_norm=max_grad_norm, comm=comm, mpi_rank_weight=0)\n",
    "\n",
    "if load_path is not None:\n",
    "        model.load(load_path)\n",
    "\n",
    "\n"
   ]
  },
  {
   "cell_type": "code",
   "execution_count": 8,
   "metadata": {},
   "outputs": [],
   "source": [
    "# test_envs = 1"
   ]
  },
  {
   "cell_type": "code",
   "execution_count": 9,
   "metadata": {},
   "outputs": [],
   "source": [
    "venv = ProcgenEnv(num_envs=test_envs, env_name=\"fruitbot\", \n",
    "                  num_levels=num_levels, start_level=start_level, distribution_mode='easy')\n",
    "venv = VecExtractDictObs(venv, \"rgb\")\n",
    "\n",
    "venv = VecMonitor(\n",
    "        venv=venv, filename=None, keep_buf=100,\n",
    "    )\n",
    "\n",
    "venv = VecNormalize(venv=venv, ob=False)"
   ]
  },
  {
   "cell_type": "code",
   "execution_count": 10,
   "metadata": {},
   "outputs": [],
   "source": [
    "states = model.initial_state\n",
    "obs = np.zeros((test_envs,) + venv.observation_space.shape, dtype=venv.observation_space.dtype.name)\n",
    "obs[:] = venv.reset()\n",
    "dones = [False for _ in range(test_envs)]"
   ]
  },
  {
   "cell_type": "code",
   "execution_count": null,
   "metadata": {},
   "outputs": [],
   "source": [
    "for steps in range(10000):\n",
    "    \n",
    "    # Advance environment by one timestep\n",
    "    \n",
    "    actions, values, states, neglogpacs = model.step(obs, S=states, M=dones)\n",
    "    \n",
    "    \n",
    "    obs[:], rewards, dones, infos = venv.step(actions)\n",
    "    \n",
    "   \n",
    "    venv.render()\n",
    "    \n",
    "    \n",
    "    # time.sleep(.05)\n",
    "venv.close()"
   ]
  },
  {
   "cell_type": "code",
   "execution_count": null,
   "metadata": {},
   "outputs": [],
   "source": []
  }
 ],
 "metadata": {
  "kernelspec": {
   "display_name": "Python 3",
   "language": "python",
   "name": "python3"
  },
  "language_info": {
   "codemirror_mode": {
    "name": "ipython",
    "version": 3
   },
   "file_extension": ".py",
   "mimetype": "text/x-python",
   "name": "python",
   "nbconvert_exporter": "python",
   "pygments_lexer": "ipython3",
   "version": "3.7.0"
  }
 },
 "nbformat": 4,
 "nbformat_minor": 4
}
