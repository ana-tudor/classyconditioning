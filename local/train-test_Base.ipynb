{
 "cells": [
  {
   "cell_type": "code",
   "execution_count": 13,
   "metadata": {},
   "outputs": [],
   "source": [
    "import gym\n",
    "import procgen\n",
    "import time\n",
    "import numpy as np\n",
    "\n",
    "from abc import ABC, abstractmethod"
   ]
  },
  {
   "cell_type": "code",
   "execution_count": 14,
   "metadata": {},
   "outputs": [],
   "source": [
    "env = gym.make('procgen:procgen-fruitbot-v0', distribution_mode = 'easy')\n",
    "obs = env.reset()"
   ]
  },
  {
   "cell_type": "code",
   "execution_count": 15,
   "metadata": {},
   "outputs": [
    {
     "data": {
      "text/plain": [
       "((512, 512, 3), (64, 64, 3))"
      ]
     },
     "execution_count": 15,
     "metadata": {},
     "output_type": "execute_result"
    }
   ],
   "source": [
    "dat = env.render(mode='rgb_array')\n",
    "dat.shape, obs.shape"
   ]
  },
  {
   "cell_type": "code",
   "execution_count": 17,
   "metadata": {},
   "outputs": [],
   "source": [
    "from PIL import Image\n",
    "\n",
    "state = Image.fromarray(obs, mode='RGB')\n",
    "full = Image.fromarray(dat, mode='RGB')\n",
    "state = state.resize((512, 512))\n",
    "state.show()\n",
    "full.show()"
   ]
  },
  {
   "cell_type": "code",
   "execution_count": 18,
   "metadata": {},
   "outputs": [],
   "source": [
    "state.save('../report_images/initial_state.png')\n",
    "full.save('../report_images/initial_render.png')"
   ]
  },
  {
   "cell_type": "code",
   "execution_count": null,
   "metadata": {},
   "outputs": [],
   "source": [
    "# random actions with rendering\n",
    "env = gym.make('procgen:procgen-fruitbot-v0', distribution_mode = 'easy')\n",
    "obs = env.reset()\n",
    "while True:\n",
    "    obs, rew, done, info = env.step(env.action_space.sample())\n",
    "    env.render()\n",
    "    if done:\n",
    "        break\n",
    "    time.sleep(.05)\n",
    "env.close()"
   ]
  },
  {
   "cell_type": "code",
   "execution_count": null,
   "metadata": {},
   "outputs": [],
   "source": []
  },
  {
   "cell_type": "code",
   "execution_count": null,
   "metadata": {},
   "outputs": [],
   "source": [
    "class FruitbotModel(ABC):\n",
    "    \n",
    "    def __init__(self):\n",
    "        super().__init__()\n",
    "        \n",
    "    \"\"\"\n",
    "    TO IMPLEMENT:\n",
    "    \n",
    "    Compute actions according to the model, return a vector of actions to take in the vectorized environment\n",
    "    \n",
    "    ==Inputs==\n",
    "    state: State vector of size (N, 64, 64, 3)\n",
    "    \n",
    "    ==Outputs==\n",
    "    action: An integer vector of actions of size (N), in which each action value is contained within range(0, 15).\n",
    "        i.e., must be a valid input for venv.step()\n",
    "    \"\"\"\n",
    "    @abstractmethod\n",
    "    def step(self, state):\n",
    "        pass\n",
    "\n",
    "    \n",
    "    \n",
    "    \"\"\"\n",
    "    Simple implementation for epsilon-greedy exploration in vectorized form. Dependent on implementation for\n",
    "    FruitbotModel.step()\n",
    "    \"\"\"\n",
    "    def step_with_explore(self, state, epsilon):\n",
    "        agent_step = self.step(state)\n",
    "        \n",
    "        # Keep probability for agent actions\n",
    "        mask = np.random.sample(agent_step.size) > epsilon\n",
    "        \n",
    "        return np.where(mask, agent_step, np.random.choice(a = 15, size = agent_step.size))\n",
    "        \n",
    "        \n",
    "    \n",
    "    \n",
    "    \"\"\"\n",
    "    Train the model at a certain timestep. \n",
    "    \"\"\"\n",
    "    @abstractmethod\n",
    "    def train(self):\n",
    "        pass\n",
    "    \n",
    "    \"\"\"\n",
    "    Train the model according to state, action, reward information obtained from the environment. \n",
    "    \"\"\"\n",
    "    @abstractmethod\n",
    "    def train(self, state0, action, state1, reward):\n",
    "        pass\n",
    "    \n",
    "    "
   ]
  },
  {
   "cell_type": "code",
   "execution_count": null,
   "metadata": {},
   "outputs": [],
   "source": [
    "class BaseModel(FruitbotModel):\n",
    "    \n",
    "    def __init__(self, num_envs):\n",
    "        self.N = num_envs\n",
    "    \n",
    "    def step(self, state):\n",
    "        return np.random.choice(15, self.N)\n",
    "    \n",
    "    def train(self, state0, action, state1, reward):\n",
    "        pass\n",
    "    \n",
    "    "
   ]
  },
  {
   "cell_type": "code",
   "execution_count": null,
   "metadata": {},
   "outputs": [],
   "source": [
    "\"\"\"\n",
    "Sample training loop\n",
    "\n",
    "TODO:\n",
    "* Update to track timesteps\n",
    "\n",
    "\"\"\"\n",
    "\n",
    "num_envs = 16\n",
    "\n",
    "venv = procgen.ProcgenEnv(num_envs=num_envs, env_name=\"fruitbot\", distribution_mode = 'easy')\n",
    "model = BaseModel(num_envs)\n",
    "state0 = venv.reset()\n",
    "\n",
    "while True:\n",
    "    \n",
    "    # Advance environment by one timestep\n",
    "    \n",
    "    action = model.step_with_explore(state0, .25)\n",
    "    state1, rew, done, info = venv.step(action)\n",
    "    \n",
    "    # Train environment on observations\n",
    "    model.train(state0, action, state1, rew)\n",
    "    state0 = state1\n",
    "    venv.render()\n",
    "    \n",
    "    if np.all(done):\n",
    "        break\n",
    "    # time.sleep(.05)\n",
    "venv.close()"
   ]
  },
  {
   "cell_type": "code",
   "execution_count": null,
   "metadata": {},
   "outputs": [],
   "source": [
    "venv.close()"
   ]
  },
  {
   "cell_type": "code",
   "execution_count": null,
   "metadata": {},
   "outputs": [],
   "source": [
    "import tensorflow.compat.v1 as tf\n",
    "tf.disable_v2_behavior()\n",
    "from mpi4py import MPI\n",
    "from baselines.ppo2 import ppo2\n",
    "from baselines.common.models import build_impala_cnn\n",
    "from baselines.common.mpi_util import setup_mpi_gpus\n",
    "from procgen import ProcgenEnv\n",
    "from baselines.common.vec_env import (\n",
    "    VecExtractDictObs,\n",
    "    VecMonitor,\n",
    "    VecFrameStack,\n",
    "    VecNormalize\n",
    ")\n",
    "from baselines import logger\n",
    "from mpi4py import MPI\n",
    "import argparse"
   ]
  },
  {
   "cell_type": "code",
   "execution_count": null,
   "metadata": {},
   "outputs": [],
   "source": [
    "setup_mpi_gpus()\n",
    "config = tf.ConfigProto()\n",
    "config.gpu_options.allow_growth = True #pylint: disable=E1101\n",
    "sess = tf.Session(config=config)\n",
    "sess.__enter__()\n",
    "    "
   ]
  },
  {
   "cell_type": "code",
   "execution_count": null,
   "metadata": {},
   "outputs": [],
   "source": [
    "num_envs = 64\n",
    "learning_rate = 5e-4\n",
    "ent_coef = .01\n",
    "gamma = .999\n",
    "lam = .95\n",
    "nsteps = 256\n",
    "nminibatches = 8\n",
    "ppo_epochs = 3\n",
    "clip_range = .2\n",
    "use_vf_clipping = True\n",
    "update_fn=None,\n",
    "init_fn=None,\n",
    "vf_coef=0.5,\n",
    "max_grad_norm=0.5\n",
    "comm = None"
   ]
  },
  {
   "cell_type": "code",
   "execution_count": null,
   "metadata": {},
   "outputs": [],
   "source": [
    "num_levels = 50\n",
    "num_envs = 64\n",
    "start_level = 0\n",
    "venv = ProcgenEnv(num_envs=num_envs, env_name=\"fruitbot\", \n",
    "                  num_levels=num_levels, start_level=start_level, distribution_mode='easy')\n",
    "venv = VecExtractDictObs(venv, \"rgb\")\n",
    "\n",
    "venv = VecMonitor(\n",
    "        venv=venv, filename=None, keep_buf=100,\n",
    "    )\n",
    "\n",
    "venv = VecNormalize(venv=venv, ob=False)\n"
   ]
  },
  {
   "cell_type": "code",
   "execution_count": null,
   "metadata": {},
   "outputs": [],
   "source": [
    "conv_fn = lambda x: build_impala_cnn(x, depths=[16,32,32], emb_size=256)\n",
    "\n"
   ]
  },
  {
   "cell_type": "markdown",
   "metadata": {},
   "source": [
    "ppo2.learn(\n",
    "        env=venv,\n",
    "        network=conv_fn,\n",
    "        total_timesteps=timesteps_per_proc,\n",
    "        save_interval=save_interval,\n",
    "        nsteps=nsteps,\n",
    "        nminibatches=nminibatches,\n",
    "        lam=lam,\n",
    "        gamma=gamma,\n",
    "        noptepochs=ppo_epochs,\n",
    "        log_interval=1,\n",
    "        ent_coef=ent_coef,\n",
    "        mpi_rank_weight=mpi_rank_weight,\n",
    "        clip_vf=use_vf_clipping,\n",
    "        comm=comm,\n",
    "        lr=learning_rate,\n",
    "        cliprange=clip_range,\n",
    "        update_fn=None,\n",
    "        init_fn=None,\n",
    "        vf_coef=0.5,\n",
    "        max_grad_norm=0.5,\n",
    "        load_path=load_path\n",
    "    )"
   ]
  },
  {
   "cell_type": "code",
   "execution_count": null,
   "metadata": {},
   "outputs": [],
   "source": [
    "from collections import deque\n",
    "from baselines.common import explained_variance, set_global_seeds\n",
    "from baselines.common.policies import build_policy\n",
    "try:\n",
    "    from mpi4py import MPI\n",
    "except ImportError:\n",
    "    MPI = None\n",
    "from baselines.ppo2.runner import Runner"
   ]
  },
  {
   "cell_type": "code",
   "execution_count": null,
   "metadata": {},
   "outputs": [],
   "source": [
    "total_timesteps = 20000"
   ]
  },
  {
   "cell_type": "code",
   "execution_count": null,
   "metadata": {},
   "outputs": [],
   "source": [
    "load_path = None\n",
    "load_path = '../train_procgen/models/sample-gpu/checkpoints/03051'"
   ]
  },
  {
   "cell_type": "code",
   "execution_count": null,
   "metadata": {},
   "outputs": [],
   "source": [
    "total_timesteps = int(total_timesteps)\n",
    "\n",
    "policy = build_policy(venv, conv_fn)\n",
    "\n",
    "# Get the nb of env\n",
    "nenvs = venv.num_envs\n",
    "\n",
    "# Get state_space and action_space\n",
    "ob_space = venv.observation_space\n",
    "ac_space = venv.action_space\n",
    "\n",
    "# Calculate the batch_size\n",
    "nbatch = nenvs * nsteps\n",
    "nbatch_train = nbatch // nminibatches\n",
    "\n",
    "\n",
    "# Instantiate the model object (that creates act_model and train_model)\n",
    "from baselines.ppo2.model import Model\n",
    "model_fn = Model\n",
    "\n",
    "model = model_fn(policy=policy, ob_space=ob_space, ac_space=ac_space, nbatch_act=nenvs, nbatch_train=nbatch_train,\n",
    "                    nsteps=nsteps, ent_coef=ent_coef, vf_coef=vf_coef,\n",
    "                    max_grad_norm=max_grad_norm, comm=comm, mpi_rank_weight=0)\n",
    "\n",
    "if load_path is not None:\n",
    "        model.load(load_path)\n",
    "\n",
    "\n"
   ]
  },
  {
   "cell_type": "code",
   "execution_count": null,
   "metadata": {},
   "outputs": [],
   "source": [
    "venv.reset()"
   ]
  },
  {
   "cell_type": "code",
   "execution_count": null,
   "metadata": {},
   "outputs": [],
   "source": [
    "model.step()"
   ]
  },
  {
   "cell_type": "code",
   "execution_count": null,
   "metadata": {},
   "outputs": [],
   "source": [
    "runner = Runner(env=venv, model=model, nsteps=nsteps, gamma=gamma, lam=lam)"
   ]
  },
  {
   "cell_type": "code",
   "execution_count": null,
   "metadata": {},
   "outputs": [],
   "source": [
    "runner.run()"
   ]
  },
  {
   "cell_type": "code",
   "execution_count": null,
   "metadata": {},
   "outputs": [],
   "source": [
    "states = model.initial_state\n",
    "obs = np.zeros((num_envs,) + venv.observation_space.shape, dtype=venv.observation_space.dtype.name)\n",
    "obs[:] = venv.reset()\n",
    "dones = [False for _ in range(num_envs)]"
   ]
  },
  {
   "cell_type": "code",
   "execution_count": null,
   "metadata": {},
   "outputs": [],
   "source": [
    "for steps in range(10000):\n",
    "    \n",
    "    # Advance environment by one timestep\n",
    "    \n",
    "    actions, values, states, neglogpacs = model.step(obs, S=states, M=dones)\n",
    "    \n",
    "    \n",
    "    obs[:], rewards, dones, infos = venv.step(actions)\n",
    "    \n",
    "   \n",
    "    venv.render()\n",
    "    \n",
    "    if np.all(dones):\n",
    "        break\n",
    "    # time.sleep(.05)\n",
    "venv.close()"
   ]
  },
  {
   "cell_type": "code",
   "execution_count": null,
   "metadata": {},
   "outputs": [],
   "source": [
    "venv.close()"
   ]
  },
  {
   "cell_type": "code",
   "execution_count": null,
   "metadata": {},
   "outputs": [],
   "source": []
  }
 ],
 "metadata": {
  "kernelspec": {
   "display_name": "Python 3",
   "language": "python",
   "name": "python3"
  },
  "language_info": {
   "codemirror_mode": {
    "name": "ipython",
    "version": 3
   },
   "file_extension": ".py",
   "mimetype": "text/x-python",
   "name": "python",
   "nbconvert_exporter": "python",
   "pygments_lexer": "ipython3",
   "version": "3.7.0"
  }
 },
 "nbformat": 4,
 "nbformat_minor": 4
}
