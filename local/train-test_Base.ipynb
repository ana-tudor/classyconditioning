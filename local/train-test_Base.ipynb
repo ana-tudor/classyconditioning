{
 "cells": [
  {
   "cell_type": "code",
   "execution_count": 41,
   "metadata": {},
   "outputs": [],
   "source": [
    "import gym\n",
    "import procgen\n",
    "import time\n",
    "import numpy as np\n",
    "from abc import ABC, abstractmethod"
   ]
  },
  {
   "cell_type": "code",
   "execution_count": 17,
   "metadata": {},
   "outputs": [],
   "source": [
    "# random actions with rendering\n",
    "env = gym.make('procgen:procgen-fruitbot-v0', distribution_mode = 'easy')\n",
    "obs = env.reset()\n",
    "while True:\n",
    "    obs, rew, done, info = env.step(env.action_space.sample())\n",
    "    env.render()\n",
    "    if done:\n",
    "        break\n",
    "    time.sleep(.05)\n",
    "env.close()"
   ]
  },
  {
   "cell_type": "code",
   "execution_count": 67,
   "metadata": {},
   "outputs": [],
   "source": [
    "class FruitbotModel(ABC):\n",
    "    \n",
    "    def __init__(self):\n",
    "        super().__init__()\n",
    "        \n",
    "    \"\"\"\n",
    "    TO IMPLEMENT:\n",
    "    \n",
    "    Compute actions according to the model, return a vector of actions to take in the vectorized environment\n",
    "    \n",
    "    ==Inputs==\n",
    "    state: State vector of size (N, 64, 64, 3)\n",
    "    \n",
    "    ==Outputs==\n",
    "    action: An integer vector of actions of size (N), in which each action value is contained within range(0, 15).\n",
    "        i.e., must be a valid input for venv.step()\n",
    "    \"\"\"\n",
    "    @abstractmethod\n",
    "    def step(self, state):\n",
    "        pass\n",
    "\n",
    "    \n",
    "    \n",
    "    \"\"\"\n",
    "    Simple implementation for epsilon-greedy exploration in vectorized form. Dependent on implementation for\n",
    "    FruitbotModel.step()\n",
    "    \"\"\"\n",
    "    def step_with_explore(self, state, epsilon):\n",
    "        agent_step = self.step(state)\n",
    "        \n",
    "        # Keep probability for agent actions\n",
    "        mask = np.random.sample(agent_step.size) > epsilon\n",
    "        \n",
    "        return np.where(mask, agent_step, np.random.choice(a = 15, size = agent_step.size))\n",
    "        \n",
    "        \n",
    "    \n",
    "    \n",
    "    \"\"\"\n",
    "    Train the model at a certain timestep. \n",
    "    \"\"\"\n",
    "    @abstractmethod\n",
    "    def train(self):\n",
    "        pass\n",
    "    \n",
    "    \"\"\"\n",
    "    Train the model according to state, action, reward information obtained from the environment. \n",
    "    \"\"\"\n",
    "    @abstractmethod\n",
    "    def train(self, state0, action, state1, reward):\n",
    "        pass\n",
    "    \n",
    "    "
   ]
  },
  {
   "cell_type": "code",
   "execution_count": 68,
   "metadata": {},
   "outputs": [],
   "source": [
    "class BaseModel(FruitbotModel):\n",
    "    \n",
    "    def __init__(self, num_envs):\n",
    "        self.N = num_envs\n",
    "    \n",
    "    def step(self, state):\n",
    "        return np.random.choice(15, self.N)\n",
    "    \n",
    "    def train(self, state0, action, state1, reward):\n",
    "        pass\n",
    "    \n",
    "    "
   ]
  },
  {
   "cell_type": "code",
   "execution_count": null,
   "metadata": {},
   "outputs": [],
   "source": [
    "\"\"\"\n",
    "Sample training loop\n",
    "\n",
    "TODO:\n",
    "* Update to track timesteps\n",
    "\n",
    "\"\"\"\n",
    "\n",
    "num_envs = 16\n",
    "\n",
    "venv = procgen.ProcgenEnv(num_envs=num_envs, env_name=\"fruitbot\", distribution_mode = 'easy')\n",
    "model = BaseModel(num_envs)\n",
    "state0 = venv.reset()\n",
    "\n",
    "while True:\n",
    "    \n",
    "    # Advance environment by one timestep\n",
    "    \n",
    "    action = model.step_with_explore(state0, .25)\n",
    "    state1, rew, done, info = venv.step(action)\n",
    "    \n",
    "    # Train environment on observations\n",
    "    model.train(state0, action, state1, rew)\n",
    "    state0 = state1\n",
    "    venv.render()\n",
    "    \n",
    "    if np.all(done):\n",
    "        break\n",
    "    # time.sleep(.05)\n",
    "venv.close()"
   ]
  },
  {
   "cell_type": "code",
   "execution_count": 70,
   "metadata": {},
   "outputs": [],
   "source": [
    "venv.close()"
   ]
  },
  {
   "cell_type": "code",
   "execution_count": null,
   "metadata": {},
   "outputs": [],
   "source": []
  }
 ],
 "metadata": {
  "kernelspec": {
   "display_name": "Python 3",
   "language": "python",
   "name": "python3"
  },
  "language_info": {
   "codemirror_mode": {
    "name": "ipython",
    "version": 3
   },
   "file_extension": ".py",
   "mimetype": "text/x-python",
   "name": "python",
   "nbconvert_exporter": "python",
   "pygments_lexer": "ipython3",
   "version": "3.7.0"
  }
 },
 "nbformat": 4,
 "nbformat_minor": 4
}
